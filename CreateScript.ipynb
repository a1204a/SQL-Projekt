{
    "metadata": {
        "kernelspec": {
            "name": "SQL",
            "display_name": "SQL",
            "language": "sql"
        },
        "language_info": {
            "name": "sql",
            "version": ""
        }
    },
    "nbformat_minor": 2,
    "nbformat": 4,
    "cells": [
        {
            "cell_type": "markdown",
            "source": [
                "# Create Script Project"
            ],
            "metadata": {
                "azdata_cell_guid": "f61f4c94-b9ed-41b5-b6cb-01e334e65df9"
            },
            "attachments": {}
        },
        {
            "cell_type": "markdown",
            "source": [
                "Create the tables needed to start the database."
            ],
            "metadata": {
                "azdata_cell_guid": "9e1014a2-bcd1-470f-a2cc-79baacd82519"
            },
            "attachments": {}
        },
        {
            "cell_type": "code",
            "source": [
                "-- Create Table\r\n",
                "CREATE DATABASE UniDB;\r\n",
                "GO"
            ],
            "metadata": {
                "azdata_cell_guid": "ddf84266-e325-4013-9828-184f663ef2e9",
                "language": "sql",
                "tags": [
                    "hide_input"
                ]
            },
            "outputs": [
                {
                    "output_type": "display_data",
                    "data": {
                        "text/html": "Commands completed successfully."
                    },
                    "metadata": {}
                },
                {
                    "output_type": "display_data",
                    "data": {
                        "text/html": "Total execution time: 00:00:00.276"
                    },
                    "metadata": {}
                }
            ],
            "execution_count": 23
        },
        {
            "cell_type": "code",
            "source": [
                "-- Table Professoren\r\n",
                "USE UniDB;\r\n",
                "\r\n",
                "CREATE TABLE Professoren(\r\n",
                "    ProfessorID INT IDENTITY(1,1),\r\n",
                "    Vorname VARCHAR(100) NOT NULL,\r\n",
                "    Nachname VARCHAR(100) NOT NULL,\r\n",
                "    Geburtsort VARCHAR(100),\r\n",
                "    Geburtsdatum DATE NOT NULL,\r\n",
                "    Raum INT NOT NULL\r\n",
                "    CONSTRAINT pk_Professoren PRIMARY KEY (ProfessorID)\r\n",
                ");"
            ],
            "metadata": {
                "azdata_cell_guid": "5d7103a6-34a5-4adb-a546-af8c09a0e856",
                "language": "sql",
                "tags": []
            },
            "outputs": [
                {
                    "output_type": "display_data",
                    "data": {
                        "text/html": "Commands completed successfully."
                    },
                    "metadata": {}
                },
                {
                    "output_type": "display_data",
                    "data": {
                        "text/html": "Total execution time: 00:00:00.007"
                    },
                    "metadata": {}
                }
            ],
            "execution_count": 24
        },
        {
            "cell_type": "code",
            "source": [
                "-- Table Studenten\r\n",
                "USE UniDB;\r\n",
                "\r\n",
                "CREATE TABLE Studenten(\r\n",
                "    MatrikelNr VARCHAR(10),\r\n",
                "    Vorname VARCHAR(100) NOT NULL,\r\n",
                "    Nachname VARCHAR(100) NOT NULL,\r\n",
                "    Studienbeginn DATE NOT NULL,\r\n",
                "    Wohnort VARCHAR(100),\r\n",
                "    CONSTRAINT pk_Studenten PRIMARY KEY (MatrikelNr),\r\n",
                ");"
            ],
            "metadata": {
                "azdata_cell_guid": "ad9d2f32-0b70-424b-8815-5c321a61e5ff",
                "language": "sql",
                "tags": []
            },
            "outputs": [
                {
                    "output_type": "display_data",
                    "data": {
                        "text/html": "Commands completed successfully."
                    },
                    "metadata": {}
                },
                {
                    "output_type": "display_data",
                    "data": {
                        "text/html": "Total execution time: 00:00:00.005"
                    },
                    "metadata": {}
                }
            ],
            "execution_count": 25
        },
        {
            "cell_type": "code",
            "source": [
                "-- Table Assistenten\r\n",
                "USE UniDB;\r\n",
                "\r\n",
                "CREATE TABLE Assistenten(\r\n",
                "    AssistentenID INT IDENTITY(1,1),\r\n",
                "    Vorname VARCHAR(100) NOT NULL,\r\n",
                "    Nachname VARCHAR(100) NOT NULL,\r\n",
                "    Geburtsdatum DATE NOT NULL,\r\n",
                "    ProfessorID INT,\r\n",
                "    CONSTRAINT pk_Assistenten PRIMARY KEY (AssistentenID)\r\n",
                ");"
            ],
            "metadata": {
                "azdata_cell_guid": "f295a3e0-c514-4572-90d8-9c833c541f36",
                "language": "sql",
                "tags": []
            },
            "outputs": [
                {
                    "output_type": "display_data",
                    "data": {
                        "text/html": "Commands completed successfully."
                    },
                    "metadata": {}
                },
                {
                    "output_type": "display_data",
                    "data": {
                        "text/html": "Total execution time: 00:00:00.013"
                    },
                    "metadata": {}
                }
            ],
            "execution_count": 26
        },
        {
            "cell_type": "code",
            "source": [
                "-- Table Vorlesung\r\n",
                "USE UniDB;\r\n",
                "\r\n",
                "CREATE TABLE Vorlesung(\r\n",
                "    VorlesungsNr INT IDENTITY(1,1),\r\n",
                "    Vorlesung VARCHAR(50) NOT NULL,\r\n",
                "    ProfessorID INT,\r\n",
                "    CONSTRAINT pk_Vorlesung PRIMARY KEY (VorlesungsNr),\r\n",
                "    CONSTRAINT fk_VorlesungProfessor FOREIGN KEY (ProfessorID) REFERENCES Professoren(ProfessorID)\r\n",
                "); "
            ],
            "metadata": {
                "azdata_cell_guid": "84ec6ef5-f272-4e0b-92f7-747645ebd1f3",
                "language": "sql",
                "tags": []
            },
            "outputs": [
                {
                    "output_type": "display_data",
                    "data": {
                        "text/html": "Commands completed successfully."
                    },
                    "metadata": {}
                },
                {
                    "output_type": "display_data",
                    "data": {
                        "text/html": "Total execution time: 00:00:00.009"
                    },
                    "metadata": {}
                }
            ],
            "execution_count": 27
        },
        {
            "cell_type": "code",
            "source": [
                "-- Table Vorlesungsbesuche\r\n",
                "USE UniDB;\r\n",
                "\r\n",
                "CREATE TABLE Vorlesungsbesuche(\r\n",
                "    MatrikelNr VARCHAR(10),\r\n",
                "    VorlesungsNr INT,\r\n",
                "    CONSTRAINT pk_Vorlesungsbesuche PRIMARY KEY (MatrikelNr, VorlesungsNr),\r\n",
                "    CONSTRAINT fk_VorlesungsbesucheStudenten FOREIGN KEY (MatrikelNr) REFERENCES Studenten(MatrikelNr) ON DELETE CASCADE,\r\n",
                "    CONSTRAINT fk_VorlesungsbesucheVorlesung FOREIGN KEY (VorlesungsNr) REFERENCES Vorlesung(VorlesungsNr)\r\n",
                ");"
            ],
            "metadata": {
                "azdata_cell_guid": "3a047d3d-9840-4ff9-a200-4b1fad69374d",
                "language": "sql",
                "tags": []
            },
            "outputs": [
                {
                    "output_type": "display_data",
                    "data": {
                        "text/html": "Commands completed successfully."
                    },
                    "metadata": {}
                },
                {
                    "output_type": "display_data",
                    "data": {
                        "text/html": "Total execution time: 00:00:00.042"
                    },
                    "metadata": {}
                }
            ],
            "execution_count": 28
        },
        {
            "cell_type": "code",
            "source": [
                "-- Table Pruefung\r\n",
                "USE UniDB;\r\n",
                "\r\n",
                "CREATE TABLE Pruefung(\r\n",
                "    PruefungID INT IDENTITY(1,1),\r\n",
                "    MatrikelNr VARCHAR(10),\r\n",
                "    VorlesungsNr INT,\r\n",
                "    ProfessorID INT,\r\n",
                "    Termin DATE,\r\n",
                "    Note DECIMAL(2,1),\r\n",
                "    CONSTRAINT pk_Pruefung PRIMARY KEY (PruefungID),\r\n",
                "    CONSTRAINT fk_PruefungStudent FOREIGN KEY (MatrikelNr) REFERENCES Studenten(MatrikelNr) ON DELETE CASCADE,\r\n",
                "    CONSTRAINT fk_PruefungVorlesung FOREIGN KEY (VorlesungsNr) REFERENCES Vorlesung(VorlesungsNr),\r\n",
                "    CONSTRAINT fk_PruefungProfessor FOREIGN KEY (ProfessorID) REFERENCES Professoren(ProfessorID)\r\n",
                ");"
            ],
            "metadata": {
                "azdata_cell_guid": "e4741099-727a-4474-a5f2-e7147a24a70c",
                "language": "sql",
                "tags": []
            },
            "outputs": [
                {
                    "output_type": "display_data",
                    "data": {
                        "text/html": "Commands completed successfully."
                    },
                    "metadata": {}
                },
                {
                    "output_type": "display_data",
                    "data": {
                        "text/html": "Total execution time: 00:00:00.004"
                    },
                    "metadata": {}
                }
            ],
            "execution_count": 29
        },
        {
            "cell_type": "code",
            "source": [
                "-- Table Voraussetzung\r\n",
                "USE UniDB;\r\n",
                "\r\n",
                "CREATE TABLE [dbo].[Voraussetzungen](\r\n",
                "    [VorlesungID] [int] NOT NULL,\r\n",
                "    [VoraussetzungID] [int] NOT NULL,\r\n",
                "    CONSTRAINT [pk_Voraussetzungen] PRIMARY KEY ([VorlesungID], [VoraussetzungID]),\r\n",
                "    CONSTRAINT [fk_Voraussetzungen_Vorlesungen1] FOREIGN KEY ([VorlesungID]) REFERENCES [dbo].[Vorlesung]([VorlesungsNr]),\r\n",
                "    CONSTRAINT [fk_Voraussetzungen_Vorlesungen2] FOREIGN KEY ([VoraussetzungID]) REFERENCES [dbo].[Vorlesung]([VorlesungsNr])\r\n",
                ");"
            ],
            "metadata": {
                "azdata_cell_guid": "a6d01596-c5e3-4287-b00c-c07f04923c73",
                "language": "sql",
                "tags": []
            },
            "outputs": [
                {
                    "output_type": "display_data",
                    "data": {
                        "text/html": "Commands completed successfully."
                    },
                    "metadata": {}
                },
                {
                    "output_type": "display_data",
                    "data": {
                        "text/html": "Total execution time: 00:00:00.005"
                    },
                    "metadata": {}
                }
            ],
            "execution_count": 30
        },
        {
            "cell_type": "markdown",
            "source": [
                "Inserting the data in databank."
            ],
            "metadata": {
                "azdata_cell_guid": "881f7d75-b5c0-41ae-a714-9e705cb30118"
            },
            "attachments": {}
        },
        {
            "cell_type": "code",
            "source": [
                "-- Inserting Data Professoren\r\n",
                "USE UniDB;\r\n",
                "\r\n",
                "INSERT INTO Professoren (Vorname, Nachname, Geburtsort, Geburtsdatum, Raum) \r\n",
                "VALUES\r\n",
                "('Albert', 'Einstein', 'Ulm', '1879-03-14', '14'),\r\n",
                "('Marie', 'Curie', 'Warschau', '1867-11-07', '12'),\r\n",
                "('Peter', 'Von Matt', 'Luzern', '1937-05-20', '8'),\r\n",
                "('Nikola', 'Tesla', 'Smiljan', '1856-07-10', '13'),\r\n",
                "('Wilhelm Conrad', 'Röntgen', 'Lennep', '1845-03-27', '10'),\r\n",
                "('Jean-Paul', 'Sartre', 'Paris', '1905-06-21', '1'),\r\n",
                "('Jacobus', 'van ''t Hoff', 'Rotterdam', '1852-08-30', '3');"
            ],
            "metadata": {
                "azdata_cell_guid": "b7795996-402b-4442-a71e-2487825e5946",
                "language": "sql",
                "tags": []
            },
            "outputs": [
                {
                    "output_type": "display_data",
                    "data": {
                        "text/html": "(7 rows affected)"
                    },
                    "metadata": {}
                },
                {
                    "output_type": "display_data",
                    "data": {
                        "text/html": "Total execution time: 00:00:00.014"
                    },
                    "metadata": {}
                }
            ],
            "execution_count": 31
        },
        {
            "cell_type": "code",
            "source": [
                "-- Inserting Data Student\r\n",
                "USE UniDB;\r\n",
                "\r\n",
                "INSERT INTO Studenten (MatrikelNr, Vorname, Nachname, Studienbeginn, Wohnort)\r\n",
                "VALUES\r\n",
                "('09-4845-0', 'Eliane', 'Burri', '2019-10-01', '3005 Bern'),\r\n",
                "('12-5776-4', 'Guido', 'Duss', '2019-10-01', '4500 Solothurn'),\r\n",
                "('09-7270-8', 'Gertrud', 'Zollinger', '2019-10-01', '3600 Thun'),\r\n",
                "('08-5694-8', 'Giorgio', 'Antonelli', '2018-10-01', '6204 Sempach'),\r\n",
                "('13-3963-7', 'Miguel', 'Sanchez', '2019-10-01', NULL),\r\n",
                "('09-6537-7', 'Zoran', 'Stefanovski', '2019-10-01', '3000 Bern'),\r\n",
                "('10-4336-3', 'Luis', 'Prieto', '2019-10-01', '4000 Basel'),\r\n",
                "('13-4372-1', 'Martin', 'Isler', '2019-10-01', NULL),\r\n",
                "('09-1079-4', 'Paolo', 'Di Lavello', '2019-10-01', '5400 Baden'),\r\n",
                "('10-5068-5', 'Rolf', 'Meier', '2019-10-01', '5430 Wettingen'),\r\n",
                "('09-9370-0', 'Marco', 'Maggi', '2019-10-01', '8918 Unterlunkhofen'),\r\n",
                "('09-0523-5', 'Heike', 'Kurmann', '2019-10-01', '6280 Hochdorf'),\r\n",
                "('09-9376-6', 'Lelzim', 'Krasniqi', '2019-10-01', '2905 Courtedoux'),\r\n",
                "('14-0556-8', 'Jean-Paul', 'Léchenne', '2019-10-01', '4500 Solothurn'),\r\n",
                "('09-0665-1', 'Roger', 'Détraz', '2017-10-01', '3215 Lurtigen'),\r\n",
                "('11-8456-6', 'Hans', 'Dubach', '2018-10-01', '3000 Bern'),\r\n",
                "('10-3201-8', 'Yvonne', 'Keller', '2019-10-01', NULL),\r\n",
                "('12-0948-3', 'Priska', 'Weber', '2019-10-01', '4125 Riehen'),\r\n",
                "('13-3225-2', 'Heidi', 'Dubuis', '2019-10-01', '6213 Knutwil'),\r\n",
                "('13-5660-2', 'Slobodan', 'Stojanovic', '2019-10-01', '4132 Muttenz'),\r\n",
                "('07-0633-6', 'Bruno', 'Zobrist', '2018-10-01', '5242 Birr'),\r\n",
                "('10-1471-6', 'Slobodanka', 'Babaja', '2019-10-01', '4600 Olten'),\r\n",
                "('10-2466-6', 'Roger', 'Gugler', '2018-10-01', '3400 Burgdorf'),\r\n",
                "('13-3704-2', 'Marian', 'Genkinger', '2019-10-01', NULL),\r\n",
                "('12-8867-9', 'Michele', 'Dell '' Amore', '2019-10-01', '4900 Langenthal');"
            ],
            "metadata": {
                "azdata_cell_guid": "29193ec1-c516-4780-9425-524395f4a926",
                "language": "sql",
                "tags": []
            },
            "outputs": [
                {
                    "output_type": "display_data",
                    "data": {
                        "text/html": "(25 rows affected)"
                    },
                    "metadata": {}
                },
                {
                    "output_type": "display_data",
                    "data": {
                        "text/html": "Total execution time: 00:00:00.007"
                    },
                    "metadata": {}
                }
            ],
            "execution_count": 32
        },
        {
            "cell_type": "code",
            "source": [
                "-- Inserting Data Assistenten\r\n",
                "USE UniDB;\r\n",
                "\r\n",
                "INSERT INTO Assistenten (Vorname, Nachname, Geburtsdatum, ProfessorID)\r\n",
                "VALUES\r\n",
                "('Lionel', 'Messi', '1987-06-24', NULL),\r\n",
                "('Xherdan', 'Shaqiri', '1991-10-10', 4),\r\n",
                "('Sami', 'Khedira', '1987-04-04', 3),\r\n",
                "('Cristiano', 'Ronaldo', '1985-02-05', 3),\r\n",
                "('Wayne', 'Rooney', '1985-10-24', NULL),\r\n",
                "('Arjen', 'Robben', '1984-01-23', 7),\r\n",
                "('Andrea', 'Pirlo', '1979-05-19', 1),\r\n",
                "('Robert', 'Lewandowski', '1988-08-21', 3),\r\n",
                "('Luis', 'Suàrez', '1987-01-24', 5),\r\n",
                "('Alexis', 'Sanchez', '1988-12-19', 2)"
            ],
            "metadata": {
                "azdata_cell_guid": "2808fe0b-7eb5-4108-b71c-34833d495643",
                "language": "sql",
                "tags": []
            },
            "outputs": [
                {
                    "output_type": "display_data",
                    "data": {
                        "text/html": "(10 rows affected)"
                    },
                    "metadata": {}
                },
                {
                    "output_type": "display_data",
                    "data": {
                        "text/html": "Total execution time: 00:00:00.034"
                    },
                    "metadata": {}
                }
            ],
            "execution_count": 33
        },
        {
            "cell_type": "code",
            "source": [
                "-- Inserting Data Vorlesungen\r\n",
                "USE UniDB;\r\n",
                "\r\n",
                "INSERT INTO Vorlesung (Vorlesung, ProfessorID)\r\n",
                "VALUES\r\n",
                "('Ethik', 3),\r\n",
                "('Elektrotechnik', 4),\r\n",
                "('Sprachtheorie', 3),\r\n",
                "('Radiologie', 5),\r\n",
                "('Allgemeine Relativitätstheorie', 1),\r\n",
                "('Quantenphysik', 1),\r\n",
                "('Kinetik', 7),\r\n",
                "('Literaturgeschichte', 3),\r\n",
                "('Astrophysik', 1),\r\n",
                "('Biochemie', 7),\r\n",
                "('Physikalische Chemie', 2)"
            ],
            "metadata": {
                "azdata_cell_guid": "1bffa6fa-69e0-4396-9637-b0f02ca3d34f",
                "language": "sql",
                "tags": []
            },
            "outputs": [
                {
                    "output_type": "display_data",
                    "data": {
                        "text/html": "(11 rows affected)"
                    },
                    "metadata": {}
                },
                {
                    "output_type": "display_data",
                    "data": {
                        "text/html": "Total execution time: 00:00:00.007"
                    },
                    "metadata": {}
                }
            ],
            "execution_count": 34
        },
        {
            "cell_type": "code",
            "source": [
                "-- Inserting Data Voraussetzung\r\n",
                "USE UniDB;\r\n",
                "\r\n",
                "INSERT Voraussetzungen (VorlesungID, VoraussetzungID)\r\n",
                "VALUES \r\n",
                "(4,2),\r\n",
                "(6,4);"
            ],
            "metadata": {
                "azdata_cell_guid": "49122319-27af-4a47-96d2-3a457923616f",
                "language": "sql",
                "tags": []
            },
            "outputs": [
                {
                    "output_type": "display_data",
                    "data": {
                        "text/html": "(2 rows affected)"
                    },
                    "metadata": {}
                },
                {
                    "output_type": "display_data",
                    "data": {
                        "text/html": "Total execution time: 00:00:00.006"
                    },
                    "metadata": {}
                }
            ],
            "execution_count": 35
        },
        {
            "cell_type": "code",
            "source": [
                "-- Inserting Data Pruefung\r\n",
                "USE UniDB;\r\n",
                "\r\n",
                "INSERT INTO [dbo].[Pruefung] ([MatrikelNr], [VorlesungsNr], [ProfessorID], [Termin], [Note])\r\n",
                "VALUES \r\n",
                "('12-8867-9', (SELECT VorlesungsNr FROM Vorlesung WHERE Vorlesung = 'Ethik'), (SELECT ProfessorID FROM Professoren WHERE Vorname = 'Jean-Paul' AND Nachname = 'Sartre'), NULL, NULL),\r\n",
                "('13-5660-2', (SELECT VorlesungsNr FROM Vorlesung WHERE Vorlesung = 'Kinetik'), (SELECT ProfessorID FROM Professoren WHERE Vorname = 'Jacobus' AND Nachname = 'van ''t Hoff'), NULL, NULL),\r\n",
                "('09-4845-0', (SELECT VorlesungsNr FROM Vorlesung WHERE Vorlesung = 'Elektrotechnik'), (SELECT ProfessorID FROM Professoren WHERE Vorname = 'Nikola' AND Nachname = 'Tesla'), '2020-10-25 00:00', 6.0),\r\n",
                "('09-4845-0', (SELECT VorlesungsNr FROM Vorlesung WHERE Vorlesung = 'Radiologie'), (SELECT ProfessorID FROM Professoren WHERE Vorname = 'Marie' AND Nachname = 'Curie'), NULL, NULL),\r\n",
                "('09-9370-0', (SELECT VorlesungsNr FROM Vorlesung WHERE Vorlesung = 'Literaturgeschichte'), (SELECT ProfessorID FROM Professoren WHERE Vorname = 'Peter' AND Nachname = 'Von Matt'), '2020-03-03 15:30', 4.0),\r\n",
                "('09-0665-1', (SELECT VorlesungsNr FROM Vorlesung WHERE Vorlesung = 'Kinetik'), (SELECT ProfessorID FROM Professoren WHERE Vorname = 'Jacobus' AND Nachname = 'van ''t Hoff'), '2020-05-28 10:00', 5.5),\r\n",
                "('10-3201-8', (SELECT VorlesungsNr FROM Vorlesung WHERE Vorlesung = 'Kinetik'), (SELECT ProfessorID FROM Professoren WHERE Vorname = 'Jacobus' AND Nachname = 'van ''t Hoff'), '2020-05-30 10:00', 2.5),\r\n",
                "('08-5694-8', (SELECT VorlesungsNr FROM Vorlesung WHERE Vorlesung = 'Literaturgeschichte'), (SELECT ProfessorID FROM Professoren WHERE Vorname = 'Peter' AND Nachname = 'Von Matt'), NULL, NULL),\r\n",
                "('13-3963-7', (SELECT VorlesungsNr FROM Vorlesung WHERE Vorlesung = 'Literaturgeschichte'), (SELECT ProfessorID FROM Professoren WHERE Vorname = 'Peter' AND Nachname = 'Von Matt'), '2021-05-27 09:00', 3.5),\r\n",
                "('13-3963-7', (SELECT VorlesungsNr FROM Vorlesung WHERE Vorlesung = 'Sprachtheorie'), (SELECT ProfessorID FROM Professoren WHERE Vorname = 'Peter' AND Nachname = 'Von Matt'), NULL, NULL),\r\n",
                "('13-3704-2', (SELECT VorlesungsNr FROM Vorlesung WHERE Vorlesung = 'Sprachtheorie'), (SELECT ProfessorID FROM Professoren WHERE Vorname = 'Peter' AND Nachname = 'Von Matt'), '2021-05-27 08:30', 5.0),\r\n",
                "('13-3704-2', (SELECT VorlesungsNr FROM Vorlesung WHERE Vorlesung = 'Literaturgeschichte'), (SELECT ProfessorID FROM Professoren WHERE Vorname = 'Peter' AND Nachname = 'Von Matt'), '2020-03-10 10:00', 4.5),\r\n",
                "('12-5776-4', (SELECT VorlesungsNr FROM Vorlesung WHERE Vorlesung = 'Elektrotechnik'), (SELECT ProfessorID FROM Professoren WHERE Vorname = 'Nikola' AND Nachname = 'Tesla'), '2021-05-26 10:00', 5.5),\r\n",
                "('14-0556-8', (SELECT VorlesungsNr FROM Vorlesung WHERE Vorlesung = 'Allgemeine Relativitätstheorie'), (SELECT ProfessorID FROM Professoren WHERE Vorname = 'Albert' AND Nachname = 'Einstein'), NULL, NULL),\r\n",
                "('09-7270-8', (SELECT VorlesungsNr FROM Vorlesung WHERE Vorlesung = 'Biochemie'), (SELECT ProfessorID FROM Professoren WHERE Vorname = 'Wilhelm Conrad' AND Nachname = 'Röntgen'), '2020-05-25 08:30', 4.5);"
            ],
            "metadata": {
                "azdata_cell_guid": "bf2ca1fa-bf60-43bd-a6c7-f1e8a415e739",
                "language": "sql"
            },
            "outputs": [
                {
                    "output_type": "display_data",
                    "data": {
                        "text/html": "(15 rows affected)"
                    },
                    "metadata": {}
                },
                {
                    "output_type": "display_data",
                    "data": {
                        "text/html": "Total execution time: 00:00:00.163"
                    },
                    "metadata": {}
                }
            ],
            "execution_count": 36
        },
        {
            "cell_type": "code",
            "source": [
                "-- Inserting Date Vorlesungsbesuche\r\n",
                "USE UniDB;\r\n",
                "\r\n",
                "INSERT Vorlesungsbesuche (MatrikelNr, VorlesungsNr)\r\n",
                "VALUES\r\n",
                "('07-0633-6', 11),\r\n",
                "('09-0665-1', 7),\r\n",
                "('09-1079-4', 10),\r\n",
                "('09-4845-0', 2),\r\n",
                "('09-4845-0', 4),\r\n",
                "('09-7270-8', 10),\r\n",
                "('09-9370-0', 8),\r\n",
                "('10-3201-8', 7),\r\n",
                "('08-5694-8', 8),\r\n",
                "('12-5776-4', 2),\r\n",
                "('12-8867-9', 1),\r\n",
                "('13-3704-2', 1),\r\n",
                "('13-3704-2', 8),\r\n",
                "('13-3704-2', 3),\r\n",
                "('13-3963-7', 3),\r\n",
                "('13-3963-7', 1),\r\n",
                "('13-3963-7', 8),\r\n",
                "('13-4372-1', 7),\r\n",
                "('13-5660-2', 2),\r\n",
                "('13-5660-2', 5),\r\n",
                "('13-5660-2', 7),\r\n",
                "('14-0556-8', 5);"
            ],
            "metadata": {
                "azdata_cell_guid": "026915ad-d570-47c8-8f1d-634523c4589e",
                "language": "sql"
            },
            "outputs": [
                {
                    "output_type": "display_data",
                    "data": {
                        "text/html": "(22 rows affected)"
                    },
                    "metadata": {}
                },
                {
                    "output_type": "display_data",
                    "data": {
                        "text/html": "Total execution time: 00:00:00.015"
                    },
                    "metadata": {}
                }
            ],
            "execution_count": 37
        }
    ]
}