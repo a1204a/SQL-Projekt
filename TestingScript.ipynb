{
    "metadata": {
        "kernelspec": {
            "name": "SQL",
            "display_name": "SQL",
            "language": "sql"
        },
        "language_info": {
            "name": "sql",
            "version": ""
        }
    },
    "nbformat_minor": 2,
    "nbformat": 4,
    "cells": [
        {
            "cell_type": "markdown",
            "source": [
                "# Testing Script"
            ],
            "metadata": {
                "azdata_cell_guid": "ce3a71e6-df9d-4414-8034-3ffa74f9083a"
            },
            "attachments": {}
        },
        {
            "cell_type": "markdown",
            "source": [
                "Scripts to see if the data was inserted correctly."
            ],
            "metadata": {
                "azdata_cell_guid": "d9b5c9f9-cb65-4f59-b69a-e7f76f37fc43"
            },
            "attachments": {}
        },
        {
            "cell_type": "code",
            "source": [
                "-- Test 1\r\n",
                "USE UniDB;\r\n",
                "\r\n",
                "SELECT Vorname, Nachname, Raum \r\n",
                "FROM Professoren\r\n",
                "WHERE Vorname = 'Peter' AND Nachname = 'von Matt';"
            ],
            "metadata": {
                "azdata_cell_guid": "80b55345-d8a0-4ca6-9795-8939a0d96637",
                "language": "sql",
                "tags": [
                    "hide_input"
                ]
            },
            "outputs": [],
            "execution_count": null
        },
        {
            "cell_type": "code",
            "source": [
                "-- Test 2\r\n",
                "USE UniDB;\r\n",
                "\r\n",
                "SELECT COUNT(*) AS Anzahl FROM Studenten WHERE Studienbeginn < '2019-01-01';"
            ],
            "metadata": {
                "azdata_cell_guid": "40333bb0-4f49-4938-bba6-154779e27d5e",
                "language": "sql",
                "tags": [
                    "hide_input"
                ]
            },
            "outputs": [],
            "execution_count": null
        },
        {
            "cell_type": "code",
            "source": [
                "-- Test 3\r\n",
                "USE UniDB;\r\n",
                "\r\n",
                "SELECT COUNT(AssistentenID) AS Anzahl FROM Assistenten WHERE ProfessorID IS NULL;"
            ],
            "metadata": {
                "azdata_cell_guid": "0d9267de-89e2-458d-a523-80a47c02a58a",
                "language": "sql",
                "tags": [
                    "hide_input"
                ]
            },
            "outputs": [],
            "execution_count": null
        },
        {
            "cell_type": "code",
            "source": [
                "-- Test 4\r\n",
                "USE UniDB;\r\n",
                "\r\n",
                "SELECT Vorname, Nachname FROM Assistenten WHERE Vorname LIKE '_r%';"
            ],
            "metadata": {
                "azdata_cell_guid": "2457d6e9-40f1-44c0-ac91-ec5538e22fab",
                "language": "sql",
                "tags": [
                    "hide_input"
                ]
            },
            "outputs": [],
            "execution_count": null
        },
        {
            "cell_type": "code",
            "source": [
                "-- Test 5\r\n",
                "USE UniDB;\r\n",
                "\r\n",
                "SELECT MIN(Geburtsdatum) FROM Assistenten;"
            ],
            "metadata": {
                "azdata_cell_guid": "6f574f6d-a2dc-4fb3-ab2f-d4b5777b1d98",
                "language": "sql",
                "tags": [
                    "hide_input"
                ]
            },
            "outputs": [],
            "execution_count": null
        },
        {
            "cell_type": "code",
            "source": [
                "-- Test 6\r\n",
                "USE UniDB;\r\n",
                "\r\n",
                "SELECT COUNT(*) AS Anzahl FROM Studenten WHERE MatrikelNr LIKE '13%';"
            ],
            "metadata": {
                "azdata_cell_guid": "9fadf184-39e1-4499-b219-1a929b6bf241",
                "language": "sql",
                "tags": [
                    "hide_input"
                ]
            },
            "outputs": [],
            "execution_count": null
        },
        {
            "cell_type": "code",
            "source": [
                "-- Test 7\r\n",
                "USE UniDB;\r\n",
                "\r\n",
                "SELECT Vorname, Nachname FROM Studenten WHERE Vorname LIKE '%a%' ORDER BY Nachname DESC;"
            ],
            "metadata": {
                "azdata_cell_guid": "99c467c9-2396-4133-a296-d63244c073e8",
                "language": "sql",
                "tags": [
                    "hide_input"
                ]
            },
            "outputs": [],
            "execution_count": null
        },
        {
            "cell_type": "code",
            "source": [
                "-- Test 8\r\n",
                "USE UniDB;\r\n",
                "\r\n",
                "SELECT PruefungID, Note FROM Pruefung WHERE Note IS NOT NULL;"
            ],
            "metadata": {
                "azdata_cell_guid": "77f480a8-b213-4415-ad62-cba54980ef53",
                "language": "sql",
                "tags": [
                    "hide_input"
                ]
            },
            "outputs": [],
            "execution_count": null
        },
        {
            "cell_type": "code",
            "source": [
                "-- Test 9\r\n",
                "USE UniDB;\r\n",
                "\r\n",
                "SELECT COUNT(*) AS AnzahlStudenten \r\n",
                "FROM Vorlesungsbesuche \r\n",
                "JOIN Vorlesung ON Vorlesungsbesuche.VorlesungsNr = Vorlesung.VorlesungsNr\r\n",
                "WHERE Vorlesung.Vorlesung = 'Kinetik';"
            ],
            "metadata": {
                "azdata_cell_guid": "f568cea9-e8df-48da-b778-2f728810c07b",
                "language": "sql",
                "tags": [
                    "hide_input"
                ]
            },
            "outputs": [],
            "execution_count": null
        },
        {
            "cell_type": "code",
            "source": [
                "-- Test 10\r\n",
                "USE UniDB;\r\n",
                "\r\n",
                "SELECT Vorname, Nachname \r\n",
                "FROM Studenten \r\n",
                "WHERE MatrikelNr IN (SELECT MatrikelNr FROM Vorlesungsbesuche GROUP BY MatrikelNr HAVING COUNT(*) >= 3 );"
            ],
            "metadata": {
                "azdata_cell_guid": "98c79409-1e87-44b8-a447-4be57fd76fcb",
                "language": "sql",
                "tags": [
                    "hide_input"
                ]
            },
            "outputs": [],
            "execution_count": null
        },
        {
            "cell_type": "code",
            "source": [
                "-- Test 11\r\n",
                "USE UniDB;\r\n",
                "\r\n",
                "SELECT COUNT(*) AS Anzahl\r\n",
                "FROM Pruefung \r\n",
                "WHERE Pruefung.ProfessorID = (\r\n",
                "    SELECT Professoren.ProfessorID \r\n",
                "    FROM Professoren \r\n",
                "    WHERE Vorname = 'Jacobus' AND Nachname = 'van ''t Hoff'\r\n",
                ");"
            ],
            "metadata": {
                "azdata_cell_guid": "10d6ae20-50ea-406f-9f0f-8c8b5df5c777",
                "language": "sql",
                "tags": []
            },
            "outputs": [],
            "execution_count": null
        },
        {
            "cell_type": "code",
            "source": [
                "-- Test 12\r\n",
                "USE UniDB;\r\n",
                "\r\n",
                "SELECT COUNT(*) AS Anzahl\r\n",
                "FROM Pruefung\r\n",
                "WHERE Note = 5.5;"
            ],
            "metadata": {
                "azdata_cell_guid": "d365b89a-be08-470b-942d-48465f69989a",
                "language": "sql"
            },
            "outputs": [],
            "execution_count": null
        },
        {
            "cell_type": "code",
            "source": [
                "-- Test 13\r\n",
                "USE UniDB;\r\n",
                "\r\n",
                "SELECT COUNT(*) AS Anzahl\r\n",
                "FROM Studenten\r\n",
                "WHERE Wohnort LIKE '%Bern%' OR Wohnort LIKE '%Basel%';"
            ],
            "metadata": {
                "azdata_cell_guid": "b6caa7fe-bb8c-4b2e-954a-79e666c889f7",
                "language": "sql"
            },
            "outputs": [],
            "execution_count": null
        },
        {
            "cell_type": "code",
            "source": [
                "-- Test 14\r\n",
                "USE UniDB;\r\n",
                "\r\n",
                "SELECT COUNT(*) AS Anzahl\r\n",
                "FROM Studenten\r\n",
                "WHERE Wohnort IS NULL;"
            ],
            "metadata": {
                "azdata_cell_guid": "f756884e-5d25-4c83-8cf0-d4f44f202beb",
                "language": "sql"
            },
            "outputs": [],
            "execution_count": null
        },
        {
            "cell_type": "code",
            "source": [
                "-- Test 15\r\n",
                "USE UniDB;\r\n",
                "\r\n",
                "SELECT TOP 1 Vorname\r\n",
                "FROM Assistenten\r\n",
                "ORDER BY Geburtsdatum ASC;"
            ],
            "metadata": {
                "azdata_cell_guid": "f890368e-8d61-4563-b508-8d7fbf635692",
                "language": "sql"
            },
            "outputs": [],
            "execution_count": null
        },
        {
            "cell_type": "code",
            "source": [
                "-- Test 16\r\n",
                "USE UniDB;\r\n",
                "\r\n",
                "SELECT AVG(Note) AS Durchschnitt\r\n",
                "FROM Pruefung\r\n",
                "WHERE MatrikelNr = '13-3704-2';"
            ],
            "metadata": {
                "azdata_cell_guid": "1d6aece4-8424-4a05-984d-34d5dbb1e4a1",
                "language": "sql"
            },
            "outputs": [],
            "execution_count": null
        },
        {
            "cell_type": "code",
            "source": [
                "-- Bonus 1\r\n",
                "USE UniDB;\r\n",
                "\r\n",
                "SELECT VorlesungID AS Vorgänger, VorlesungID AS Nachfolger\r\n",
                "FROM Voraussetzungen vor\r\n",
                "INNER JOIN Vorlesung v1 ON vor.VoraussetzungID = VorlesungID\r\n",
                "INNER JOIN Vorlesung v2 ON vor.VorlesungID = VorlesungID\r\n",
                "WHERE (v2.Vorlesung = 'Radiologie' AND v1.Vorlesung = 'Elektrotechnik')\r\n",
                "   OR (v2.Vorlesung = 'Quantenphysik' AND v1.Vorlesung = 'Radiologie');"
            ],
            "metadata": {
                "azdata_cell_guid": "6d3762a4-d932-4d9c-9fd6-9b5787ba8a1a",
                "language": "sql"
            },
            "outputs": [
                {
                    "output_type": "display_data",
                    "data": {
                        "text/html": "(0 rows affected)"
                    },
                    "metadata": {}
                },
                {
                    "output_type": "display_data",
                    "data": {
                        "text/html": "Total execution time: 00:00:00.009"
                    },
                    "metadata": {}
                },
                {
                    "output_type": "execute_result",
                    "metadata": {},
                    "execution_count": 21,
                    "data": {
                        "application/vnd.dataresource+json": {
                            "schema": {
                                "fields": [
                                    {
                                        "name": "Vorgänger"
                                    },
                                    {
                                        "name": "Nachfolger"
                                    }
                                ]
                            },
                            "data": []
                        },
                        "text/html": [
                            "<table>",
                            "<tr><th>Vorgänger</th><th>Nachfolger</th></tr>",
                            "</table>"
                        ]
                    }
                }
            ],
            "execution_count": 21
        }
    ]
}